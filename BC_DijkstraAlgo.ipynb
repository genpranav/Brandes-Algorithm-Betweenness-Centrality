{
 "cells": [
  {
   "cell_type": "code",
   "execution_count": 36,
   "metadata": {},
   "outputs": [],
   "source": [
    "import pandas as pd"
   ]
  },
  {
   "cell_type": "code",
   "execution_count": 37,
   "metadata": {},
   "outputs": [],
   "source": [
    "graph = {\n",
    "    1:{2:2,3:4},\n",
    "    2:{1:2,3:3,4:8},\n",
    "    3:{1:4,2:3,5:5,4:2},\n",
    "    4:{2:8,3:2,5:11,6:22},\n",
    "    5:{3:5,4:11,6:1},\n",
    "    6:{4:22,5:1}\n",
    "        }"
   ]
  },
  {
   "cell_type": "code",
   "execution_count": 39,
   "metadata": {},
   "outputs": [],
   "source": [
    "def dijsktra(graph, source, destination):\n",
    "    path = {}\n",
    "    adj_node = {}\n",
    "    queue = []\n",
    "\n",
    "    for node in graph:\n",
    "        path[node] = float(\"inf\")\n",
    "        adj_node[node] = None\n",
    "        queue.append(node)\n",
    "        \n",
    "    path[source] = 0\n",
    "    while queue:\n",
    "        # find min distance which wasn't marked as current\n",
    "        key_min = queue[0]\n",
    "        min_val = path[key_min]\n",
    "        for n in range(1, len(queue)):\n",
    "            if path[queue[n]] < min_val:\n",
    "                key_min = queue[n]  \n",
    "                min_val = path[key_min]\n",
    "        cur = key_min\n",
    "        queue.remove(cur)\n",
    "        # print(cur)\n",
    "        \n",
    "        for i in graph[cur]:\n",
    "            alternate = graph[cur][i] + path[cur]\n",
    "            if path[i] > alternate:\n",
    "                path[i] = alternate\n",
    "                adj_node[i] = cur\n",
    "                \n",
    "                \n",
    "    x = destination\n",
    "    path = [destination]\n",
    "    while True:\n",
    "        x = adj_node[x]\n",
    "        if x is None:\n",
    "            break\n",
    "        path.append(x)\n",
    "    path.reverse()\n",
    "    \n",
    "    return path"
   ]
  },
  {
   "cell_type": "code",
   "execution_count": 106,
   "metadata": {},
   "outputs": [],
   "source": [
    "def vertex_betweenness_centrality(G):\n",
    "    n_v =len(G)\n",
    "    counts = [0]*n_v\n",
    "    \n",
    "    for start in range(1, n_v+1):\n",
    "        for end in range(1, n_v+1):\n",
    "            if(start!=end):\n",
    "                path = dijsktra(G, start, end)\n",
    "                lp = len(path)\n",
    "                if lp > 2:\n",
    "                    for idx in range(1, lp-1):\n",
    "                        element = path[idx]\n",
    "                        # if element == 1:\n",
    "                        #     print(path)\n",
    "                        counts[element-1] += 1\n",
    "    \n",
    "    counts = [i / 2 for i in counts]\n",
    "    Total = sum(counts) + n_v\n",
    "    BC = [i / Total for i in counts]\n",
    "    vertex = range(1, n_v+1)\n",
    "\n",
    "    VBC = pd.DataFrame({'Vertex' : vertex, 'Counts' : counts,'Betweenness Centrality' : BC}, columns=['Vertex','Counts','Betweenness Centrality'])\n",
    "\n",
    "    return VBC"
   ]
  },
  {
   "cell_type": "code",
   "execution_count": 113,
   "metadata": {},
   "outputs": [],
   "source": [
    "wvbc_example = vertex_betweenness_centrality(graph)"
   ]
  },
  {
   "cell_type": "code",
   "execution_count": 120,
   "metadata": {},
   "outputs": [],
   "source": [
    "def edge_betweenness_centrality(G):\n",
    "    n_v = len(G)\n",
    "    sum = 0\n",
    "    for i in range(1, n_v+1):\n",
    "        sum += len(G[i])\n",
    "    n_e = int(sum/2)\n",
    "    counts = [0]*n_e\n",
    "    \n",
    "    for start in range(1, n_v+1):\n",
    "        for end in range(1, n_v+1):\n",
    "            if(start!=end):\n",
    "                path = dijsktra(G, start, end)\n",
    "\n",
    "                for i in range(len(path)-1):\n",
    "                    elm1 = path[i]\n",
    "                    elm2 = path[i+1]\n",
    "                    if( ((elm1 == 1) and (elm2 == 2)) or ((elm1 == 2) and(elm2 == 1)) ):\n",
    "                        counts[0] += 1\n",
    "                    if( ((elm1 == 1) and (elm2 == 3)) or ((elm1 == 3) and(elm2 == 1)) ):\n",
    "                        counts[1] += 1\n",
    "                    if( ((elm1 == 3) and (elm2 == 2)) or ((elm1 == 2) and(elm2 == 3)) ):\n",
    "                        counts[2] += 1\n",
    "                    if( ((elm1 == 4) and (elm2 == 2)) or ((elm1 == 2) and(elm2 == 4)) ):\n",
    "                        counts[3] += 1\n",
    "                    if( ((elm1 == 3) and (elm2 == 4)) or ((elm1 == 4) and(elm2 == 3)) ):\n",
    "                        counts[4] += 1\n",
    "                    if( ((elm1 == 3) and (elm2 == 5)) or ((elm1 == 5) and(elm2 == 3)) ):\n",
    "                        counts[5] += 1\n",
    "                    if( ((elm1 == 4) and (elm2 == 5)) or ((elm1 == 5) and(elm2 == 4)) ):\n",
    "                        counts[6] += 1\n",
    "                    if( ((elm1 == 4) and (elm2 == 6)) or ((elm1 == 6) and(elm2 == 4)) ):\n",
    "                        counts[7] += 1\n",
    "                    if( ((elm1 == 5) and (elm2 == 6)) or ((elm1 == 6) and(elm2 == 5)) ):\n",
    "                        counts[8] += 1\n",
    "\n",
    "    counts = [i / 2 for i in counts]\n",
    "    Total = 0\n",
    "    for ele in range(0, len(counts)):\n",
    "        Total = Total + counts[ele]\n",
    "    Total = Total + n_v\n",
    "    BC = [i / Total for i in counts]\n",
    "\n",
    "    edges = [(1,2),(1,3),(2,3),(2,4),(3,4),(3,5),(4,6),(4,6),(5,6)]\n",
    "    weights = [2, 4, 3, 8, 2, 5, 11, 22, 1]\n",
    "    EBC = pd.DataFrame({'Edges' : edges, 'Counts' : counts, 'Betweenness Centrality' : BC, 'Weights' : weights}, columns=['Edges', 'Counts', 'Betweenness Centrality', 'Weights'])\n",
    "    return EBC"
   ]
  },
  {
   "cell_type": "code",
   "execution_count": 127,
   "metadata": {},
   "outputs": [],
   "source": [
    "webc_example = edge_betweenness_centrality(graph)"
   ]
  },
  {
   "cell_type": "code",
   "execution_count": 128,
   "metadata": {},
   "outputs": [
    {
     "name": "stdout",
     "output_type": "stream",
     "text": [
      "   Vertex  Counts  Betweenness Centrality\n",
      "0       1     0.0                0.000000\n",
      "1       2     0.0                0.000000\n",
      "2       3     8.0                0.444444\n",
      "3       4     0.0                0.000000\n",
      "4       5     4.0                0.222222\n",
      "5       6     0.0                0.000000\n",
      "\n",
      "    Edges  Counts  Betweenness Centrality  Weights\n",
      "0  (1, 2)     1.0                0.030303        2\n",
      "1  (1, 3)     4.0                0.121212        4\n",
      "2  (2, 3)     4.0                0.121212        3\n",
      "3  (2, 4)     0.0                0.000000        8\n",
      "4  (3, 4)     5.0                0.151515        2\n",
      "5  (3, 5)     8.0                0.242424        5\n",
      "6  (4, 6)     0.0                0.000000       11\n",
      "7  (4, 6)     0.0                0.000000       22\n",
      "8  (5, 6)     5.0                0.151515        1\n"
     ]
    }
   ],
   "source": [
    "print(wvbc_example)\n",
    "print()\n",
    "print(webc_example)"
   ]
  },
  {
   "cell_type": "markdown",
   "metadata": {},
   "source": [
    "## Identifying Gateway Vertices and Bridges"
   ]
  },
  {
   "cell_type": "code",
   "execution_count": 130,
   "metadata": {},
   "outputs": [
    {
     "data": {
      "text/html": [
       "<div>\n",
       "<style scoped>\n",
       "    .dataframe tbody tr th:only-of-type {\n",
       "        vertical-align: middle;\n",
       "    }\n",
       "\n",
       "    .dataframe tbody tr th {\n",
       "        vertical-align: top;\n",
       "    }\n",
       "\n",
       "    .dataframe thead th {\n",
       "        text-align: right;\n",
       "    }\n",
       "</style>\n",
       "<table border=\"1\" class=\"dataframe\">\n",
       "  <thead>\n",
       "    <tr style=\"text-align: right;\">\n",
       "      <th></th>\n",
       "      <th>Vertex</th>\n",
       "      <th>Counts</th>\n",
       "      <th>Betweenness Centrality</th>\n",
       "    </tr>\n",
       "  </thead>\n",
       "  <tbody>\n",
       "    <tr>\n",
       "      <th>2</th>\n",
       "      <td>3</td>\n",
       "      <td>8.0</td>\n",
       "      <td>0.444444</td>\n",
       "    </tr>\n",
       "    <tr>\n",
       "      <th>4</th>\n",
       "      <td>5</td>\n",
       "      <td>4.0</td>\n",
       "      <td>0.222222</td>\n",
       "    </tr>\n",
       "    <tr>\n",
       "      <th>0</th>\n",
       "      <td>1</td>\n",
       "      <td>0.0</td>\n",
       "      <td>0.000000</td>\n",
       "    </tr>\n",
       "    <tr>\n",
       "      <th>1</th>\n",
       "      <td>2</td>\n",
       "      <td>0.0</td>\n",
       "      <td>0.000000</td>\n",
       "    </tr>\n",
       "    <tr>\n",
       "      <th>3</th>\n",
       "      <td>4</td>\n",
       "      <td>0.0</td>\n",
       "      <td>0.000000</td>\n",
       "    </tr>\n",
       "    <tr>\n",
       "      <th>5</th>\n",
       "      <td>6</td>\n",
       "      <td>0.0</td>\n",
       "      <td>0.000000</td>\n",
       "    </tr>\n",
       "  </tbody>\n",
       "</table>\n",
       "</div>"
      ],
      "text/plain": [
       "   Vertex  Counts  Betweenness Centrality\n",
       "2       3     8.0                0.444444\n",
       "4       5     4.0                0.222222\n",
       "0       1     0.0                0.000000\n",
       "1       2     0.0                0.000000\n",
       "3       4     0.0                0.000000\n",
       "5       6     0.0                0.000000"
      ]
     },
     "execution_count": 130,
     "metadata": {},
     "output_type": "execute_result"
    }
   ],
   "source": [
    "wvbc_example.sort_values(by=['Betweenness Centrality'], ascending=False)"
   ]
  },
  {
   "cell_type": "code",
   "execution_count": 131,
   "metadata": {},
   "outputs": [
    {
     "data": {
      "text/html": [
       "<div>\n",
       "<style scoped>\n",
       "    .dataframe tbody tr th:only-of-type {\n",
       "        vertical-align: middle;\n",
       "    }\n",
       "\n",
       "    .dataframe tbody tr th {\n",
       "        vertical-align: top;\n",
       "    }\n",
       "\n",
       "    .dataframe thead th {\n",
       "        text-align: right;\n",
       "    }\n",
       "</style>\n",
       "<table border=\"1\" class=\"dataframe\">\n",
       "  <thead>\n",
       "    <tr style=\"text-align: right;\">\n",
       "      <th></th>\n",
       "      <th>Edges</th>\n",
       "      <th>Counts</th>\n",
       "      <th>Betweenness Centrality</th>\n",
       "      <th>Weights</th>\n",
       "    </tr>\n",
       "  </thead>\n",
       "  <tbody>\n",
       "    <tr>\n",
       "      <th>5</th>\n",
       "      <td>(3, 5)</td>\n",
       "      <td>8.0</td>\n",
       "      <td>0.242424</td>\n",
       "      <td>5</td>\n",
       "    </tr>\n",
       "    <tr>\n",
       "      <th>4</th>\n",
       "      <td>(3, 4)</td>\n",
       "      <td>5.0</td>\n",
       "      <td>0.151515</td>\n",
       "      <td>2</td>\n",
       "    </tr>\n",
       "    <tr>\n",
       "      <th>8</th>\n",
       "      <td>(5, 6)</td>\n",
       "      <td>5.0</td>\n",
       "      <td>0.151515</td>\n",
       "      <td>1</td>\n",
       "    </tr>\n",
       "    <tr>\n",
       "      <th>1</th>\n",
       "      <td>(1, 3)</td>\n",
       "      <td>4.0</td>\n",
       "      <td>0.121212</td>\n",
       "      <td>4</td>\n",
       "    </tr>\n",
       "    <tr>\n",
       "      <th>2</th>\n",
       "      <td>(2, 3)</td>\n",
       "      <td>4.0</td>\n",
       "      <td>0.121212</td>\n",
       "      <td>3</td>\n",
       "    </tr>\n",
       "    <tr>\n",
       "      <th>0</th>\n",
       "      <td>(1, 2)</td>\n",
       "      <td>1.0</td>\n",
       "      <td>0.030303</td>\n",
       "      <td>2</td>\n",
       "    </tr>\n",
       "    <tr>\n",
       "      <th>3</th>\n",
       "      <td>(2, 4)</td>\n",
       "      <td>0.0</td>\n",
       "      <td>0.000000</td>\n",
       "      <td>8</td>\n",
       "    </tr>\n",
       "    <tr>\n",
       "      <th>6</th>\n",
       "      <td>(4, 6)</td>\n",
       "      <td>0.0</td>\n",
       "      <td>0.000000</td>\n",
       "      <td>11</td>\n",
       "    </tr>\n",
       "    <tr>\n",
       "      <th>7</th>\n",
       "      <td>(4, 6)</td>\n",
       "      <td>0.0</td>\n",
       "      <td>0.000000</td>\n",
       "      <td>22</td>\n",
       "    </tr>\n",
       "  </tbody>\n",
       "</table>\n",
       "</div>"
      ],
      "text/plain": [
       "    Edges  Counts  Betweenness Centrality  Weights\n",
       "5  (3, 5)     8.0                0.242424        5\n",
       "4  (3, 4)     5.0                0.151515        2\n",
       "8  (5, 6)     5.0                0.151515        1\n",
       "1  (1, 3)     4.0                0.121212        4\n",
       "2  (2, 3)     4.0                0.121212        3\n",
       "0  (1, 2)     1.0                0.030303        2\n",
       "3  (2, 4)     0.0                0.000000        8\n",
       "6  (4, 6)     0.0                0.000000       11\n",
       "7  (4, 6)     0.0                0.000000       22"
      ]
     },
     "execution_count": 131,
     "metadata": {},
     "output_type": "execute_result"
    }
   ],
   "source": [
    "webc_example.sort_values(by=['Betweenness Centrality'], ascending=False)"
   ]
  },
  {
   "cell_type": "markdown",
   "metadata": {},
   "source": [
    "## Verifying the Correctness by testing on unweighted graph"
   ]
  },
  {
   "cell_type": "code",
   "execution_count": null,
   "metadata": {},
   "outputs": [],
   "source": [
    "brandes_graph = {\n",
    "    1:{2:1, 3:1},\n",
    "    2:{1:1, 3:1},\n",
    "    3:{4:1, 1:1, 2:1},\n",
    "    4:{3:1, 5:1, 6:1},\n",
    "    5:{6:1, 4:1},\n",
    "    6:{5:1, 4:1}\n",
    "}"
   ]
  },
  {
   "cell_type": "code",
   "execution_count": 111,
   "metadata": {},
   "outputs": [],
   "source": [
    "def edge_betweenness_centrality(G):\n",
    "    n_v = len(G)\n",
    "    sum = 0\n",
    "    for i in range(1, n_v+1):\n",
    "        sum += len(G[i])\n",
    "    n_e = int(sum/2)\n",
    "    counts = [0]*n_e\n",
    "    \n",
    "    for start in range(1, n_v+1):\n",
    "        for end in range(1, n_v+1):\n",
    "            if(start!=end):\n",
    "                path = dijsktra(G, start, end)\n",
    "\n",
    "                for i in range(len(path)-1):\n",
    "                    elm1 = path[i]\n",
    "                    elm2 = path[i+1]\n",
    "                    if( ((elm1 == 1) and (elm2 == 2)) or ((elm1 == 2) and(elm2 == 1)) ):\n",
    "                        counts[0] += 1\n",
    "                    if( ((elm1 == 1) and (elm2 == 3)) or ((elm1 == 3) and(elm2 == 1)) ):\n",
    "                        counts[1] += 1\n",
    "                    if( ((elm1 == 3) and (elm2 == 2)) or ((elm1 == 2) and(elm2 == 3)) ):\n",
    "                        counts[2] += 1\n",
    "                    if( ((elm1 == 4) and (elm2 == 3)) or ((elm1 == 3) and(elm2 == 4)) ):\n",
    "                        counts[3] += 1\n",
    "                    if( ((elm1 == 5) and (elm2 == 4)) or ((elm1 == 4) and(elm2 == 5)) ):\n",
    "                        counts[4] += 1\n",
    "                    if( ((elm1 == 6) and (elm2 == 4)) or ((elm1 == 4) and(elm2 == 6)) ):\n",
    "                        counts[5] += 1\n",
    "                    if( ((elm1 == 5) and (elm2 == 6)) or ((elm1 == 6) and(elm2 == 5)) ):\n",
    "                        counts[6] += 1\n",
    "                    \n",
    "    counts = [i / 2 for i in counts]\n",
    "    Total = 0\n",
    "    for ele in range(0, len(counts)):\n",
    "        Total = Total + counts[ele]\n",
    "    \n",
    "    Total = Total + n_v\n",
    "    BC = [i / Total for i in counts]\n",
    "\n",
    "    edges = [(1,2),(1,3),(2,3),(3,4),(4,5),(5,6),(4,6)]\n",
    "    weights = [1, 1, 1, 1, 1, 1, 1]\n",
    "    EBC = pd.DataFrame({'Edges' : edges, 'Counts' : counts, 'Betweenness Centrality' : BC, 'Weights' : weights}, columns=['Edges', 'Counts', 'Betweenness Centrality', 'Weights'])\n",
    "    return EBC"
   ]
  },
  {
   "cell_type": "code",
   "execution_count": 108,
   "metadata": {},
   "outputs": [
    {
     "name": "stdout",
     "output_type": "stream",
     "text": [
      "   Vertex  Counts  Betweenness Centrality\n",
      "0       1     0.0                0.000000\n",
      "1       2     0.0                0.000000\n",
      "2       3     6.0                0.333333\n",
      "3       4     6.0                0.333333\n",
      "4       5     0.0                0.000000\n",
      "5       6     0.0                0.000000\n"
     ]
    }
   ],
   "source": [
    "print(vertex_betweenness_centrality(brandes_graph))"
   ]
  },
  {
   "cell_type": "code",
   "execution_count": 112,
   "metadata": {},
   "outputs": [
    {
     "name": "stdout",
     "output_type": "stream",
     "text": [
      "    Edges  Counts  Betweenness Centrality  Weights\n",
      "0  (1, 2)     1.0                0.030303        1\n",
      "1  (1, 3)     4.0                0.121212        1\n",
      "2  (2, 3)     4.0                0.121212        1\n",
      "3  (3, 4)     9.0                0.272727        1\n",
      "4  (4, 5)     4.0                0.121212        1\n",
      "5  (5, 6)     4.0                0.121212        1\n",
      "6  (4, 6)     1.0                0.030303        1\n"
     ]
    }
   ],
   "source": [
    "print(edge_betweenness_centrality(brandes_graph))"
   ]
  }
 ],
 "metadata": {
  "kernelspec": {
   "display_name": "Python 3.9.4 64-bit",
   "language": "python",
   "name": "python3"
  },
  "language_info": {
   "codemirror_mode": {
    "name": "ipython",
    "version": 3
   },
   "file_extension": ".py",
   "mimetype": "text/x-python",
   "name": "python",
   "nbconvert_exporter": "python",
   "pygments_lexer": "ipython3",
   "version": "3.9.4"
  },
  "orig_nbformat": 4,
  "vscode": {
   "interpreter": {
    "hash": "6bf3ebb51ba865f281ce1f84b3745d1f53cddfef84166cfb0862af6341610cdf"
   }
  }
 },
 "nbformat": 4,
 "nbformat_minor": 2
}
