{
 "cells": [
  {
   "cell_type": "code",
   "execution_count": 16,
   "metadata": {},
   "outputs": [],
   "source": [
    "from collections import deque\n",
    "\n",
    "def brandes(V, A):\n",
    "    \"Compute betweenness centrality in an unweighted graph.\"\n",
    "    # Brandes algorithm\n",
    "    # see http://www.cs.ucc.ie/~rb4/resources/Brandes.pdf\n",
    "    C = dict((v,0) for v in V)\n",
    "    for s in V:\n",
    "        S = []\n",
    "        P = dict((w,[]) for w in V)\n",
    "        g = dict((t, 0) for t in V); g[s] = 1\n",
    "        d = dict((t,-1) for t in V); d[s] = 0\n",
    "        Q = deque([])\n",
    "        Q.append(s)\n",
    "        while Q:\n",
    "            v = Q.popleft()\n",
    "            S.append(v)\n",
    "            for w in A[v]:\n",
    "                if d[w] < 0:\n",
    "                    Q.append(w)\n",
    "                    d[w] = d[v] + 1\n",
    "                if d[w] == d[v] + 1:\n",
    "                    g[w] = g[w] + g[v]\n",
    "                    P[w].append(v)\n",
    "        e = dict((v, 0) for v in V)\n",
    "        while S:\n",
    "            # print(s)\n",
    "            w = S.pop()\n",
    "            for v in P[w]:\n",
    "                e[v] = e[v] + ((g[v]/g[w]) * (1 + e[w]))\n",
    "            if w != s:\n",
    "                # print(w, e[w])\n",
    "                C[w] = C[w] + e[w]\n",
    "            \n",
    "            # print(C)\n",
    "        # print(\"___\")\n",
    "    # reduce C/2 to get the centrality\n",
    "    for v in V:\n",
    "        C[v] = C[v] / 2\n",
    "    return C"
   ]
  },
  {
   "cell_type": "code",
   "execution_count": 17,
   "metadata": {},
   "outputs": [],
   "source": [
    "import networkx as nx\n",
    "import random\n",
    "import matplotlib.pyplot as plt\n",
    "import numpy as np\n",
    "# G=nx.gnp_random_graph(4,0.3)\n",
    "G=nx.Graph()\n",
    "G.add_nodes_from(range(6))\n",
    "G.add_edge(0,1)\n",
    "G.add_edge(0,2)\n",
    "G.add_edge(1,2)\n",
    "G.add_edge(2,3)\n",
    "G.add_edge(3,4)\n",
    "G.add_edge(3,5)\n",
    "G.add_edge(4,5)"
   ]
  },
  {
   "cell_type": "code",
   "execution_count": 18,
   "metadata": {},
   "outputs": [
    {
     "data": {
      "image/png": "[encoded data removed]",
      "text/plain": [
       "<Figure size 432x288 with 1 Axes>"
      ]
     },
     "metadata": {},
     "output_type": "display_data"
    }
   ],
   "source": [
    "nx.draw(G, with_labels=True)"
   ]
  },
  {
   "cell_type": "code",
   "execution_count": 19,
   "metadata": {},
   "outputs": [
    {
     "name": "stdout",
     "output_type": "stream",
     "text": [
      "Number of edges: 7\n"
     ]
    }
   ],
   "source": [
    "# List of Nodes\n",
    "V = list(G.nodes())\n",
    "# List of Edges\n",
    "# Edges of the graph\n",
    "E = list(G.edges())\n",
    "print(\"Number of edges:\", len(E))\n",
    "# generate a Dictionary of adjacent vertices\n",
    "A = dict((v, []) for v in V)\n",
    "for (u, v) in E:\n",
    "    A[u].append(v)\n",
    "    A[v].append(u)"
   ]
  },
  {
   "cell_type": "code",
   "execution_count": 20,
   "metadata": {},
   "outputs": [
    {
     "name": "stdout",
     "output_type": "stream",
     "text": [
      "[0, 1, 2, 3, 4, 5]\n",
      "{0: [1, 2], 1: [0, 2], 2: [0, 1, 3], 3: [2, 4, 5], 4: [3, 5], 5: [3, 4]}\n"
     ]
    }
   ],
   "source": [
    "print(V)\n",
    "print(A)"
   ]
  },
  {
   "cell_type": "code",
   "execution_count": 21,
   "metadata": {},
   "outputs": [
    {
     "data": {
      "text/plain": [
       "{0: 0.0, 1: 0.0, 2: 6.0, 3: 6.0, 4: 0.0, 5: 0.0}"
      ]
     },
     "execution_count": 21,
     "metadata": {},
     "output_type": "execute_result"
    }
   ],
   "source": [
    "brandes(V, A)"
   ]
  },
  {
   "cell_type": "code",
   "execution_count": 22,
   "metadata": {},
   "outputs": [
    {
     "data": {
      "text/plain": [
       "{(0, 1): 1.0,\n",
       " (0, 2): 4.0,\n",
       " (1, 2): 4.0,\n",
       " (2, 3): 9.0,\n",
       " (3, 4): 4.0,\n",
       " (3, 5): 4.0,\n",
       " (4, 5): 1.0}"
      ]
     },
     "execution_count": 22,
     "metadata": {},
     "output_type": "execute_result"
    }
   ],
   "source": [
    "# unnormalized betweenness centrality\n",
    "\n",
    "nx.betweenness_centrality(G,normalized=False)"
   ]
  }
 ],
 "metadata": {
  "kernelspec": {
   "display_name": "Python 3.9.4 64-bit",
   "language": "python",
   "name": "python3"
  },
  "language_info": {
   "codemirror_mode": {
    "name": "ipython",
    "version": 3
   },
   "file_extension": ".py",
   "mimetype": "text/x-python",
   "name": "python",
   "nbconvert_exporter": "python",
   "pygments_lexer": "ipython3",
   "version": "3.9.4"
  },
  "orig_nbformat": 4,
  "vscode": {
   "interpreter": {
    "hash": "6bf3ebb51ba865f281ce1f84b3745d1f53cddfef84166cfb0862af6341610cdf"
   }
  }
 },
 "nbformat": 4,
 "nbformat_minor": 2
}
